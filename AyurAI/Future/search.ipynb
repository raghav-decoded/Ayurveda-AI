{
 "cells": [
  {
   "cell_type": "code",
   "execution_count": 1,
   "metadata": {},
   "outputs": [
    {
     "ename": "",
     "evalue": "",
     "output_type": "error",
     "traceback": [
      "\u001b[1;31mThe Kernel crashed while executing code in the the current cell or a previous cell. Please review the code in the cell(s) to identify a possible cause of the failure. Click <a href='https://aka.ms/vscodeJupyterKernelCrash'>here</a> for more info. View Jupyter <a href='command:jupyter.viewOutput'>log</a> for further details."
     ]
    }
   ],
   "source": [
    "import tkinter as tk\n",
    "from tkinter import ttk\n",
    "import pandas as pd\n",
    "import sys\n",
    "\n",
    "def filter_data(query):\n",
    "    # Implement your filtering logic here using pandas\n",
    "    filtered_results = dataset[dataset['w_trans'].str.contains(query, case=False)]\n",
    "    return filtered_results[['w_trans', 'wordtree', 'w_def']]\n",
    "\n",
    "def on_key_release(event):\n",
    "    query = entry.get()\n",
    "    filtered_results = filter_data(query)\n",
    "    \n",
    "    # Clear previous results\n",
    "    result_listbox.delete(0, tk.END)\n",
    "    \n",
    "    # Insert new results\n",
    "    for index, row in filtered_results.iterrows():\n",
    "        result_text = f\"w_trans: {row['w_trans']} | wordtree: {row['wordtree']} | w_def: {row['w_def']}\"\n",
    "        result_listbox.insert(tk.END, result_text)\n",
    "\n",
    "def exit_application():\n",
    "    root.quit()\n",
    "    sys.exit()\n",
    "\n",
    "# Load your CSV dataset into a pandas DataFrame\n",
    "dataset = pd.read_csv('/AyurAI/ayu_sat_table_a.csv')\n",
    "\n",
    "# Create the main window\n",
    "root = tk.Tk()\n",
    "root.title(\"Real-time Search\")\n",
    "\n",
    "# Create an entry field for typing queries\n",
    "entry = tk.Entry(root)\n",
    "entry.pack(padx=10, pady=5)\n",
    "entry.bind(\"<KeyRelease>\", on_key_release)\n",
    "\n",
    "# Create a listbox with vertical scrollbar\n",
    "frame = ttk.Frame(root)\n",
    "frame.pack(padx=10, pady=5, fill=tk.BOTH, expand=True)\n",
    "\n",
    "result_listbox = tk.Listbox(frame)\n",
    "result_listbox.pack(side=tk.LEFT, fill=tk.BOTH, expand=True)\n",
    "\n",
    "scrollbar = ttk.Scrollbar(frame, command=result_listbox.yview)\n",
    "scrollbar.pack(side=tk.RIGHT, fill=tk.Y)\n",
    "result_listbox.config(yscrollcommand=scrollbar.set)\n",
    "\n",
    "# Create an Exit button\n",
    "exit_button = tk.Button(root, text=\"Exit\", command=exit_application)\n",
    "exit_button.pack(padx=10, pady=5)\n",
    "\n",
    "root.mainloop()\n"
   ]
  }
 ],
 "metadata": {
  "kernelspec": {
   "display_name": "Python 3",
   "language": "python",
   "name": "python3"
  },
  "language_info": {
   "codemirror_mode": {
    "name": "ipython",
    "version": 3
   },
   "file_extension": ".py",
   "mimetype": "text/x-python",
   "name": "python",
   "nbconvert_exporter": "python",
   "pygments_lexer": "ipython3",
   "version": "3.11.0"
  },
  "orig_nbformat": 4
 },
 "nbformat": 4,
 "nbformat_minor": 2
}
